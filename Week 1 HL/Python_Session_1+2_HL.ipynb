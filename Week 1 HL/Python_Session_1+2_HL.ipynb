{
 "cells": [
  {
   "cell_type": "code",
   "execution_count": null,
   "metadata": {},
   "outputs": [],
   "source": [
    "# Session 1 - Task 1\n",
    "\n",
    "import random\n",
    "x = random.randint(1,10)\n",
    "numberCheck = False\n",
    "guess = 0\n",
    "name = str(input(\"What is your name?\"))\n",
    "while numberCheck == False:\n",
    "    guess = int(input(\"Hello \"+name+\". A whole number between 1 and 10 has been randomly generated. Guess this number.\"))\n",
    "    if (guess > 10) or (guess <= 0):\n",
    "        print(\"The question asked for a whole number between 1 and 10. Please try again.\")\n",
    "    else:\n",
    "        numberCheck = True\n",
    "if guess == x:\n",
    "    print(\"Congratulations \"+name+\"! You guessed correctly!\")\n",
    "else:\n",
    "    print(\"Unlucky \"+name+\"! The correct guess was \"+str(x)+\". Better luck next time!\")"
   ]
  },
  {
   "cell_type": "code",
   "execution_count": null,
   "metadata": {},
   "outputs": [],
   "source": [
    "# Session 1 - Task 2\n",
    "\n",
    "import time # Used to pause before the punchline\n",
    "\n",
    "jokeNumber = int(input(\"Choose your favourite number between 1 and 100.\"))\n",
    "if (jokeNumber >= 1) and (jokeNumber <= 33):\n",
    "    print(\"What's the best thing about Switzerland?\")\n",
    "    time.sleep(3)\n",
    "    print(\"I don't know, but the flag is a big plus!\")\n",
    "elif (jokeNumber >= 34) and (jokeNumber <= 66):\n",
    "    print(\"Did you hear about the mathematician who's afraid of negative numbers?\")\n",
    "    time.sleep(4)\n",
    "    print(\"They'll stop at nothing to avoid them!\")\n",
    "elif (jokeNumber >= 67) and (jokeNumber <= 100):\n",
    "    print(\"You hear about this restaurant called Karma?\")\n",
    "    time.sleep(3)\n",
    "    print(\"There's no menu: you get what you deserve.\")\n",
    "else:\n",
    "    print(\"You did not enter a number between 1 and 100. Your punishment is there is no joke.\")"
   ]
  },
  {
   "cell_type": "code",
   "execution_count": null,
   "metadata": {},
   "outputs": [],
   "source": [
    "# Session 1 - Task 3\n",
    "\n",
    "starter = input(\"Hello! What is your favourite starter?\")\n",
    "main = input(\"What is your favourite main course?\")\n",
    "dessert = input(\"What is your favourite dessert?\")\n",
    "drink = input(\"What is your favourite drink?\")\n",
    "print(\"Your favourite meal is \"+starter+ \" as a starter with some \"+main+\" as a main course and a \"+dessert+\" as a dessert accompanied with a glass of \"+drink+\".\")"
   ]
  },
  {
   "cell_type": "code",
   "execution_count": null,
   "metadata": {},
   "outputs": [],
   "source": [
    "# Session 1 - Task 4\n",
    "\n",
    "motorbike_value = 2000\n",
    "year = 0\n",
    "while motorbike_value >= 1000:\n",
    "    motorbike_value *= 0.9\n",
    "    year += 1\n",
    "    print(\"The value of the motorbike at the end of year \"+str(year)+\" is: £\"+str(round(motorbike_value,2)))\n",
    "\n",
    "# The round function is used to present the motorbike value in correct currency values (rounded to 2 decimal places)"
   ]
  },
  {
   "cell_type": "code",
   "execution_count": null,
   "metadata": {},
   "outputs": [],
   "source": [
    "# Session 1 - Task 5\n",
    "\n",
    "print(\"Welcome to the calculator!\")\n",
    "print(\"This calculator will ask you for two numbers and a choice of operator.\")\n",
    "print(\"In all calculations the second choice of number is followed by the first choice of number.\")\n",
    "print(\"For example: If the first number entered is 5, the second number entered is 2 and the operator is power\")\n",
    "print(\"Then this calculator will calculate 5 to the power of 2\")\n",
    "first = float(input(\"Enter the first number.\"))\n",
    "second = float(input(\"Enter the second number.\"))\n",
    "operator = input(\"Choose an operator (Your choices are add, subtract, multiply, divide, power).\")\n",
    "if operator == \"add\":\n",
    "    print(first+second)\n",
    "elif operator == \"subtract\":\n",
    "    print(first-second)\n",
    "elif operator == \"multiply\":\n",
    "    print(first*second)\n",
    "elif operator == \"divide\":\n",
    "    print(first/second)\n",
    "elif operator == \"power\":\n",
    "    print(first**second)\n",
    "else:\n",
    "    print(\"Invalid operator. Please make sure you spelt the operator correctly and the operator was spelt entirely in lowercase.\")"
   ]
  },
  {
   "cell_type": "code",
   "execution_count": null,
   "metadata": {},
   "outputs": [],
   "source": [
    "# Session 2 - Task 1 (in a separate pdf file)"
   ]
  },
  {
   "cell_type": "code",
   "execution_count": null,
   "metadata": {},
   "outputs": [],
   "source": [
    "# Session 2 - Task 2\n",
    "\n",
    "motorbike_value = 2000\n",
    "percentage_increase_per_year = -10\n",
    "years_for_one_calculation = 1\n",
    "counter = 0\n",
    "\n",
    "def end_value(value,percentage_increase_per_year,years): # This function calculates the end value of the motorbike after any choice of years, any percentage increase/decrease and any initial value of the motorbike\n",
    "    value = value*(1+percentage_increase_per_year/100)**years\n",
    "    return value\n",
    "\n",
    "while motorbike_value >= 1000:\n",
    "    counter += 1\n",
    "    motorbike_value = end_value(motorbike_value,percentage_increase_per_year,years_for_one_calculation)\n",
    "    print(\"The value of the motorbike at the end of year \"+str(counter*years_for_one_calculation)+\" is: £\"+str(round(motorbike_value,2)))"
   ]
  },
  {
   "cell_type": "code",
   "execution_count": null,
   "metadata": {},
   "outputs": [],
   "source": [
    "# Session 2 - Task 3\n",
    "\n",
    "def calculator(first,second,operator):\n",
    "    if operator == \"add\":\n",
    "        print(first+second)\n",
    "    elif operator == \"subtract\":\n",
    "        print(first-second)\n",
    "    elif operator == \"multiply\":\n",
    "        print(first*second)\n",
    "    elif operator == \"divide\":\n",
    "        print(first/second)\n",
    "    elif operator == \"power\":\n",
    "        print(first**second)\n",
    "    else:\n",
    "        print(\"Invalid operator. Please make sure you spelt the operator correctly and the operator was spelt entirely in lowercase.\")\n",
    "    \n",
    "print(\"Welcome to the calculator!\")\n",
    "print(\"This calculator will ask you for two numbers and a choice of operator.\")\n",
    "print(\"In all calculations the second choice of number is followed by the first choice of number.\")\n",
    "print(\"For example: If the first number entered is 5, the second number entered is 2 and the operator is power\")\n",
    "print(\"Then this calculator will calculate 5 to the power of 2\")\n",
    "\n",
    "first = float(input(\"Enter the first number.\"))\n",
    "second = float(input(\"Enter the second number.\"))\n",
    "operator = input(\"Choose an operator (Your choices are add, subtract, multiply, divide, power).\")\n",
    "\n",
    "calculator(first,second,operator)"
   ]
  }
 ],
 "metadata": {
  "interpreter": {
   "hash": "875fe811ffaf60f4acd971fa588580955d768ffaed36619f360ced1371b4ebf0"
  },
  "kernelspec": {
   "display_name": "Python 3.10.0 64-bit",
   "name": "python3"
  },
  "language_info": {
   "codemirror_mode": {
    "name": "ipython",
    "version": 3
   },
   "file_extension": ".py",
   "mimetype": "text/x-python",
   "name": "python",
   "nbconvert_exporter": "python",
   "pygments_lexer": "ipython3",
   "version": "3.10.0"
  },
  "orig_nbformat": 4
 },
 "nbformat": 4,
 "nbformat_minor": 2
}
