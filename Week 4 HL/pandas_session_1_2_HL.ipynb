{
 "cells": [
  {
   "cell_type": "code",
   "execution_count": null,
   "metadata": {},
   "outputs": [],
   "source": [
    "import pandas as pd"
   ]
  },
  {
   "cell_type": "code",
   "execution_count": null,
   "metadata": {},
   "outputs": [],
   "source": [
    "# Pandas Session 1 and 2 - Task 1 MUST RUN THE CODE BLOCK FIRST\n",
    "\n",
    "data = pd.read_csv(\"destinations.csv\")\n",
    "\n",
    "print(\"In the file 'destinations.csv', there are \"+str(data.shape[0])+\" rows and \"+str(data.shape[1])+\" columns.\")"
   ]
  },
  {
   "cell_type": "code",
   "execution_count": null,
   "metadata": {},
   "outputs": [],
   "source": [
    "# Pandas Session 1 and 2 - Task 2\n",
    "\n",
    "data.iloc[2:8]"
   ]
  },
  {
   "cell_type": "code",
   "execution_count": null,
   "metadata": {},
   "outputs": [],
   "source": [
    "# Pandas Session 1 and 2 - Task 3\n",
    "\n",
    "print(\"The mean number of all-inclusive hotels across all destinations is \"+str(data[\"Number_Of_All_Inclusive_Hotels\"].mean()))"
   ]
  },
  {
   "cell_type": "code",
   "execution_count": null,
   "metadata": {},
   "outputs": [],
   "source": [
    "# Pandas Session 1 and 2 - Task 4\n",
    "\n",
    "lowest_scoring_destinations = [] # A list is used to store the lowest scoring destinations (there may be more than one lowest\n",
    "# scoring destination\n",
    "min_score = 10\n",
    "\n",
    "for i in range(data.shape[0]):\n",
    "    score_i = data[\"Feedback_Score_Out_Of_10\"].iloc[i]\n",
    "    if score_i <= min_score:\n",
    "        if score_i < min_score:\n",
    "            min_score = score_i\n",
    "            lowest_scoring_destinations.clear()\n",
    "        lowest_scoring_destinations.append(data[\"Destination\"].iloc[i])    \n",
    "\n",
    "print(\"The list of lowest scoring destination(s) are:\")\n",
    "for destination in lowest_scoring_destinations:\n",
    "    print(destination)"
   ]
  },
  {
   "cell_type": "code",
   "execution_count": null,
   "metadata": {},
   "outputs": [],
   "source": [
    "# Pandas Session 1 and 2 - Task 5\n",
    "\n",
    "highest_scoring_destinations = [] # A list is used to store the highest scoring destinations (there may be more than one highest\n",
    "# scoring destination\n",
    "max_score = 0\n",
    "\n",
    "for i in range(data.shape[0]):\n",
    "    score_i = data[\"Feedback_Score_Out_Of_10\"].iloc[i]\n",
    "    if score_i >= max_score:\n",
    "        if score_i > max_score:\n",
    "            max_score = score_i\n",
    "            highest_scoring_destinations.clear()\n",
    "        highest_scoring_destinations.append(data[\"Destination\"].iloc[i])   \n",
    "\n",
    "print(\"The list of highest scoring destination(s) are:\")\n",
    "for destination in highest_scoring_destinations:\n",
    "    print(destination)"
   ]
  },
  {
   "cell_type": "code",
   "execution_count": null,
   "metadata": {},
   "outputs": [],
   "source": [
    "# Pandas Session 1 and 2 - Task 6\n",
    "\n",
    "hotel_filter = data[\"Number_Of_All_Inclusive_Hotels\"] > 9\n",
    "\n",
    "data[hotel_filter]"
   ]
  },
  {
   "cell_type": "code",
   "execution_count": null,
   "metadata": {},
   "outputs": [],
   "source": [
    "# Pandas Session 1 and 2 - Task 7\n",
    "\n",
    "score_filter = data[\"Feedback_Score_Out_Of_10\"] > 8\n",
    "\n",
    "data[score_filter]"
   ]
  },
  {
   "cell_type": "code",
   "execution_count": null,
   "metadata": {},
   "outputs": [],
   "source": [
    "# Pandas Session 1 and 2 - Task 8\n",
    "\n",
    "score_filter = data[\"Feedback_Score_Out_Of_10\"] < 2\n",
    "\n",
    "data[score_filter]"
   ]
  },
  {
   "cell_type": "code",
   "execution_count": null,
   "metadata": {},
   "outputs": [],
   "source": [
    "# Pandas Session 1 and 2 - Extension Task 1\n",
    "\n",
    "data.plot.scatter(x=\"Feedback_Score_Out_Of_10\",y=\"Number_Of_All_Inclusive_Hotels\")\n",
    "\n",
    "# Based on the data below after executing this code block, there is no correlation (or extremely weak positive correlation)"
   ]
  },
  {
   "cell_type": "code",
   "execution_count": null,
   "metadata": {},
   "outputs": [],
   "source": [
    "# Pandas Session 1 and 2 - Extension Task 2\n",
    "\n",
    "data.sort_values(by=\"Feedback_Score_Out_Of_10\",ascending=False).plot.bar(\"Destination\",\"Feedback_Score_Out_Of_10\")\n",
    "\n",
    "# sort_values function found from pandas documentation"
   ]
  }
 ],
 "metadata": {
  "interpreter": {
   "hash": "c9755353120f7998e7636e60752b6218acb32a68493899a93daf14dbab0b2893"
  },
  "kernelspec": {
   "display_name": "Python 3.9.6 64-bit ('test_venv': venv)",
   "language": "python",
   "name": "python3"
  },
  "language_info": {
   "codemirror_mode": {
    "name": "ipython",
    "version": 3
   },
   "file_extension": ".py",
   "mimetype": "text/x-python",
   "name": "python",
   "nbconvert_exporter": "python",
   "pygments_lexer": "ipython3",
   "version": "3.10.0"
  },
  "orig_nbformat": 4
 },
 "nbformat": 4,
 "nbformat_minor": 2
}
