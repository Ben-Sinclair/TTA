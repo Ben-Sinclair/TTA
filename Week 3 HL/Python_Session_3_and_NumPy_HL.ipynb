{
 "cells": [
  {
   "cell_type": "code",
   "execution_count": null,
   "metadata": {},
   "outputs": [],
   "source": [
    "import numpy as np"
   ]
  },
  {
   "cell_type": "code",
   "execution_count": null,
   "metadata": {},
   "outputs": [],
   "source": [
    "# Python Session 3 - Task 1\n",
    "\n",
    "number_file = open(\"Numbers.txt\",\"w\")\n",
    "\n",
    "first = int(input(\"Enter the first number to store in the Numbers file\"))\n",
    "second = int(input(\"Enter the second number to store in the Numbers file\"))\n",
    "third = int(input(\"Enter the third number to store in the Numbers file\"))\n",
    "fourth = int(input(\"Enter the fourth number to store in the Numbers file\"))\n",
    "number_list = [first,second,third,fourth]\n",
    "\n",
    "for number in number_list:\n",
    "    number_file.write(str(number))\n",
    "    if number != fourth:\n",
    "        number_file.write(\"\\n\")\n",
    "\n",
    "number_file.close()\n"
   ]
  },
  {
   "cell_type": "code",
   "execution_count": null,
   "metadata": {},
   "outputs": [],
   "source": [
    "# Trying out reading a file\n",
    "\n",
    "with open(\"Numbers.txt\",\"r\") as number_file:\n",
    "    data = number_file.read().replace(\"5\",\"test\")\n",
    "    print(data)\n",
    "\n",
    "number_file.close()"
   ]
  },
  {
   "cell_type": "code",
   "execution_count": null,
   "metadata": {},
   "outputs": [],
   "source": [
    "# Trying out appending to a file\n",
    "\n",
    "number_file = open(\"Numbers.txt\",\"a\")\n",
    "number_file.write(\"\\n\")\n",
    "number_file.write(\"Test\")\n",
    "number_file.close()"
   ]
  },
  {
   "cell_type": "code",
   "execution_count": null,
   "metadata": {},
   "outputs": [],
   "source": [
    "# Session 3 - Task 2\n",
    "\n",
    "def mark_grade(mark): # Produces A-Level grades\n",
    "    if 0 <= mark < 40:\n",
    "        return \"U\"\n",
    "    elif 40 <= mark < 50:\n",
    "        return \"E\"\n",
    "    elif 50 <= mark < 60:\n",
    "        return \"D\"\n",
    "    elif 60 <= mark < 70:\n",
    "        return \"C\"\n",
    "    elif 70 <= mark < 80:\n",
    "        return \"B\"\n",
    "    elif 80 <= mark < 90:\n",
    "        return \"A\" \n",
    "    elif 90 <= mark <= 100:\n",
    "        return \"A*\"\n",
    "    else:\n",
    "        return \"Please enter a valid percentage mark\"          \n",
    "\n",
    "student_mark = float(input(\"What was your percentage mark on your test?\"))\n",
    "target_grade = input(\"What is your target grade? (Options are A*, A, B, C, D, E, U)\")\n",
    "student_grade = mark_grade(student_mark)\n",
    "ordered_grades = [\"U\",\"E\",\"D\",\"C\",\"B\",\"A\",\"A*\"]\n",
    "\n",
    "target_grade_index = 10\n",
    "student_grade_index = 0\n",
    "\n",
    "if len(student_grade) <= 2:\n",
    "    print(\"Your target grade is: \"+target_grade)\n",
    "    print(\"Your percentage mark for this test was: \"+str(student_mark))\n",
    "    print(\"Your grade for this test is: \"+student_grade)\n",
    "\n",
    "    for i in range(len(ordered_grades)):\n",
    "        if target_grade == ordered_grades[i]:\n",
    "            target_grade_index = i\n",
    "        if student_grade == ordered_grades[i]: # Need if in this line instead elif since both if statements are not mutually exclusive\n",
    "            student_grade_index = i\n",
    "\n",
    "    #print(target_grade_index)\n",
    "    #print(student_grade_index)\n",
    "\n",
    "    if target_grade_index < student_grade_index:\n",
    "        print(\"Amazing! Your result is \"+str(student_grade_index-target_grade_index)+\" grade(s) higher than your target grade!\")\n",
    "    elif target_grade_index == student_grade_index:\n",
    "        print(\"Well done! Your result was the same as your target grade.\")\n",
    "    else:\n",
    "        print(\"Your result is \"+str(target_grade_index-student_grade_index)+\" grade(s) lower than your target grade. Keep trying!\")\n",
    "\n",
    "else:\n",
    "    print(student_grade)    "
   ]
  },
  {
   "cell_type": "code",
   "execution_count": null,
   "metadata": {},
   "outputs": [],
   "source": [
    "# NumPy Session - Task 1\n",
    "\n",
    "array = np.arange(10)\n",
    "print(array)"
   ]
  },
  {
   "cell_type": "code",
   "execution_count": null,
   "metadata": {},
   "outputs": [],
   "source": [
    "# NumPy Session - Task 2\n",
    "\n",
    "boolean_array = np.full((3,3),True)\n",
    "print(boolean_array)"
   ]
  },
  {
   "cell_type": "code",
   "execution_count": null,
   "metadata": {},
   "outputs": [],
   "source": [
    "# NumPy Session - Task 3\n",
    "\n",
    "one_to_ten = np.arange(1,11)\n",
    "list_of_odds = []\n",
    "\n",
    "for i in range(len(one_to_ten)):\n",
    "    if one_to_ten[i]//2 != one_to_ten[i]/2:\n",
    "        list_of_odds.append(one_to_ten[i])\n",
    "\n",
    "print(\"The odd numbers from the array containing 1-10 are \"+str(list_of_odds))"
   ]
  },
  {
   "cell_type": "code",
   "execution_count": null,
   "metadata": {},
   "outputs": [],
   "source": [
    "# NumPy Session - Task 4\n",
    "\n",
    "one_to_ten = np.arange(1,11)\n",
    "\n",
    "for i in range(len(one_to_ten)):\n",
    "    if one_to_ten[i]//2 != one_to_ten[i]/2:\n",
    "        one_to_ten[i] = -1\n",
    "\n",
    "print(one_to_ten)\n"
   ]
  },
  {
   "cell_type": "code",
   "execution_count": null,
   "metadata": {},
   "outputs": [],
   "source": [
    "# NumPy Session - Task 5\n",
    "\n",
    "def convert_1d_to_2d(array_1d):\n",
    "    if len(array_1d)//2 == len(array_1d)/2:\n",
    "        print(array_1d.reshape(2,int(len(array_1d)/2)))\n",
    "    else:\n",
    "        print(\"The array \"+str(array_1d)+\" cannot be reshaped into 2 rows\")\n",
    "\n",
    "convert_1d_to_2d(np.arange(1,16,2)) # First Example: List [1  3  5  7  9  11  13  15] can be reshaped into 2 rows (even length)\n",
    "\n",
    "convert_1d_to_2d(np.arange(1,14,2)) # Second Example: List [1  3  5  7  9  11  13] can not be reshaped into 2 rows (odd length)"
   ]
  },
  {
   "cell_type": "code",
   "execution_count": null,
   "metadata": {},
   "outputs": [],
   "source": [
    "# NumPy Session - Task 6\n",
    "\n",
    "a = np.array([6,7])\n",
    "b = np.array([4,5])\n",
    "c = np.vstack((a,b))\n",
    "cdot = np.dot(c,c)\n",
    "print(cdot)\n",
    "print(\"The total sum of the elements of the matrix c*c is \"+str(np.sum(cdot)))\n",
    "print(\"The total sum of the columns of the matrix c*c is \"+str(np.sum(cdot,axis=0)))\n",
    "print(\"The total sum of the rows of the matrix c*c is \"+str(np.sum(cdot,axis=1)))"
   ]
  },
  {
   "cell_type": "code",
   "execution_count": null,
   "metadata": {},
   "outputs": [],
   "source": [
    "# NumPy Session - Extension Task 2\n",
    "\n",
    "a = np.array([1,2,3,4,5])\n",
    "b = np.array([4,5,6,7,8,9]) # No repeating items in array b?\n",
    "\n",
    "print(np.unique(b))"
   ]
  },
  {
   "cell_type": "code",
   "execution_count": 90,
   "metadata": {},
   "outputs": [
    {
     "name": "stdout",
     "output_type": "stream",
     "text": [
      "24.0\n"
     ]
    }
   ],
   "source": [
    "# NumPy Session - Extension Task 3\n",
    "\n",
    "a = np.array([1,2,3,4,5])\n",
    "b = np.array([4,5,6,7,8,9])\n",
    "\n",
    "c = np.zeros(len(a)+len(b))\n",
    "d = np.concatenate((a,b))\n",
    "\n",
    "for i in range(len(d)):\n",
    "    if 3 < d[i] < 7:\n",
    "        c[i] = d[i]\n",
    "\n",
    "print(np.sum(c))"
   ]
  }
 ],
 "metadata": {
  "interpreter": {
   "hash": "875fe811ffaf60f4acd971fa588580955d768ffaed36619f360ced1371b4ebf0"
  },
  "kernelspec": {
   "display_name": "Python 3.10.0 64-bit",
   "name": "python3"
  },
  "language_info": {
   "codemirror_mode": {
    "name": "ipython",
    "version": 3
   },
   "file_extension": ".py",
   "mimetype": "text/x-python",
   "name": "python",
   "nbconvert_exporter": "python",
   "pygments_lexer": "ipython3",
   "version": "3.10.0"
  },
  "orig_nbformat": 4
 },
 "nbformat": 4,
 "nbformat_minor": 2
}
